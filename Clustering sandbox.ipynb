{
 "cells": [
  {
   "cell_type": "code",
   "execution_count": 3,
   "id": "7301f688",
   "metadata": {},
   "outputs": [],
   "source": [
    "!pip3 install sklearn --quiet"
   ]
  },
  {
   "cell_type": "code",
   "execution_count": 5,
   "id": "18ac73f9",
   "metadata": {},
   "outputs": [],
   "source": [
    "from sklearn.cluster import KMeans\n",
    "import pickle"
   ]
  },
  {
   "cell_type": "code",
   "execution_count": 8,
   "id": "a934ff09",
   "metadata": {},
   "outputs": [],
   "source": [
    "feats = pickle.load(open(\"features.pkl\", \"rb\"))"
   ]
  },
  {
   "cell_type": "code",
   "execution_count": 13,
   "id": "a5d5447a",
   "metadata": {},
   "outputs": [
    {
     "data": {
      "text/plain": [
       "4"
      ]
     },
     "execution_count": 13,
     "metadata": {},
     "output_type": "execute_result"
    }
   ],
   "source": [
    "kmeans = KMeans(n_clusters=5, random_state=0).fit(feats)\n",
    "kmeans.labels_[0]"
   ]
  },
  {
   "cell_type": "code",
   "execution_count": null,
   "id": "6f8b7fb6",
   "metadata": {},
   "outputs": [],
   "source": []
  }
 ],
 "metadata": {
  "kernelspec": {
   "display_name": "Python 3 (ipykernel)",
   "language": "python",
   "name": "python3"
  },
  "language_info": {
   "codemirror_mode": {
    "name": "ipython",
    "version": 3
   },
   "file_extension": ".py",
   "mimetype": "text/x-python",
   "name": "python",
   "nbconvert_exporter": "python",
   "pygments_lexer": "ipython3",
   "version": "3.8.10"
  }
 },
 "nbformat": 4,
 "nbformat_minor": 5
}
